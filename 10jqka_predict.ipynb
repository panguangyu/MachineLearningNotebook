{
 "cells": [
  {
   "cell_type": "code",
   "execution_count": 93,
   "metadata": {
    "collapsed": true
   },
   "outputs": [],
   "source": [
    "\n",
    "import jieba\n",
    "import jieba.analyse\n",
    "import numpy as np\n",
    "import pandas as pd\n",
    "from sklearn.feature_extraction.text import CountVectorizer,TfidfTransformer\n",
    "from sklearn.naive_bayes import MultinomialNB\n",
    "from snownlp import SnowNLP"
   ]
  },
  {
   "cell_type": "code",
   "execution_count": 78,
   "metadata": {
    "collapsed": false
   },
   "outputs": [],
   "source": [
    "# 导入训练数据\n",
    "data = pd.read_excel('feedback.xlsx')\n",
    "\n",
    "data = np.array(data)\n",
    "\n",
    "# 获取分类集和数据集\n",
    "classification = np.array(data[:, 0], dtype='int')\n",
    "comment = np.array(data[:, 1], dtype='object')\n",
    "\n",
    "# 对数据集（文本）进行分词\n",
    "commentStack = [];\n",
    "for number in range(len(comment)):\n",
    "    commentWord = jieba.cut(str(comment[number]))\n",
    "    commentWord = \" \".join(commentWord)\n",
    "    commentStack.append(commentWord)\n",
    "\n",
    "#转化成数组，格式是[\"词语1 词语2 词语3\"， ...] 一个元素代表一个文本\n",
    "vectorizer = CountVectorizer()    # 计算文本的词频矩阵\n",
    "arr = vectorizer.fit_transform(commentStack)  # 矩阵元素a[i][j] 表示j词在i个文本下的词频\n",
    "\n",
    "transformer = TfidfTransformer()\n",
    "tfidf = transformer.fit_transform(arr) # 传入词频向量计算tf-idf"
   ]
  },
  {
   "cell_type": "code",
   "execution_count": 134,
   "metadata": {
    "collapsed": false
   },
   "outputs": [
    {
     "data": {
      "text/plain": [
       "MultinomialNB(alpha=1.0, class_prior=None, fit_prior=True)"
      ]
     },
     "execution_count": 134,
     "metadata": {},
     "output_type": "execute_result"
    }
   ],
   "source": [
    "# 朴素贝叶斯统计\n",
    "\n",
    "mnb = MultinomialNB()\n",
    "mnb.fit(tfidf, classification)"
   ]
  },
  {
   "cell_type": "code",
   "execution_count": 186,
   "metadata": {
    "collapsed": false
   },
   "outputs": [],
   "source": [
    "from snownlp import sentiment\n",
    "sentiment.train('feedback_negative.txt', 'feedback_positive.txt')\n",
    "sentiment.save('sentiment.marshal')"
   ]
  },
  {
   "cell_type": "code",
   "execution_count": 188,
   "metadata": {
    "collapsed": false
   },
   "outputs": [
    {
     "name": "stdout",
     "output_type": "stream",
     "text": [
      "[[ 0.05115529  0.28610037  0.14992472  0.51281962]]\n",
      "0.9990378531689277\n",
      "3\n"
     ]
    }
   ],
   "source": [
    "test_comment = u'很棒棒~'\n",
    "\n",
    "test_comment = jieba.cut(test_comment)\n",
    "test_comment = \" \".join(test_comment)\n",
    "test_comment = [test_comment]\n",
    "\n",
    "test_vectorizer_wordFrequency = vectorizer.transform(test_comment)\n",
    "\n",
    "test_tfidf = transformer.transform(test_vectorizer_wordFrequency).toarray()\n",
    "\n",
    "predict_classification = mnb.predict(test_tfidf)\n",
    "predict_classification_proba = mnb.predict_proba(test_tfidf)\n",
    "\n",
    "print(predict_classification_proba)\n",
    "\n",
    "snownlp = SnowNLP(str(test_comment))\n",
    "snow_score = snownlp.sentiments\n",
    "\n",
    "print(snow_score)\n",
    "\n",
    "# 如果snow判断大于0.8或朴素贝叶斯预测值大于0.8，则选择作为分类\n",
    "# snow_tag_stack = {0:0.25, 1:0.5, 2:0.75, 3:1}\n",
    "\n",
    "naive_score = predict_classification_proba[0][predict_classification[0]]\n",
    "\n",
    "if (snow_score >= 0.5):\n",
    "    if (snow_score >= naive_score):      # 如果情感分析得分大于朴素贝叶斯得分，则选择该标签\n",
    "        if (snow_score > 0.25):\n",
    "            if (snow_score > 0.5):\n",
    "                if (snow_score > 0.75):\n",
    "                    tag = 3\n",
    "                else:\n",
    "                    tag = 2\n",
    "            else:\n",
    "                tag = 1\n",
    "        else:\n",
    "            tag = 0\n",
    "    else:\n",
    "        tag = predict_classification[0]\n",
    "else:\n",
    "    snow_score = 1-snow_score\n",
    "    if (snow_score >= naive_score):      # 如果情感分析得分大于朴素贝叶斯得分，则选择该标签\n",
    "        if (snow_score > 0.5):\n",
    "            if (snow_score > 0.75):\n",
    "                tag = 0\n",
    "            else:\n",
    "                tag = 1\n",
    "    else:\n",
    "        tag = predict_classification[0]\n",
    "    \n",
    "print(tag)"
   ]
  }
 ],
 "metadata": {
  "anaconda-cloud": {},
  "kernelspec": {
   "display_name": "Python [conda root]",
   "language": "python",
   "name": "conda-root-py"
  },
  "language_info": {
   "codemirror_mode": {
    "name": "ipython",
    "version": 3
   },
   "file_extension": ".py",
   "mimetype": "text/x-python",
   "name": "python",
   "nbconvert_exporter": "python",
   "pygments_lexer": "ipython3",
   "version": "3.5.2"
  }
 },
 "nbformat": 4,
 "nbformat_minor": 1
}

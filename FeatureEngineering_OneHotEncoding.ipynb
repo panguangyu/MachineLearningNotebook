{
 "cells": [
  {
   "cell_type": "code",
   "execution_count": 2,
   "metadata": {
    "collapsed": true
   },
   "outputs": [],
   "source": [
    "# One-Hot Encoding 编码\n",
    "\n",
    "# 将定性特征转化为定量特征，如sex=男/女 => sex为男：1，sex为女：0\n",
    "# 编码主要有 DummyEncoding / One-hot Encoding\n",
    "\n",
    "# 一个定性特征或者成为Categorical Variable,其有n个值\n",
    "# Dummy Encoding 会将这个Categorical Variable转换为n-1个特征变量，而OneHot Encoding会转换为n个特征变量"
   ]
  },
  {
   "cell_type": "code",
   "execution_count": 31,
   "metadata": {
    "collapsed": true
   },
   "outputs": [],
   "source": [
    "import pandas as pd\n",
    "import numpy as np\n",
    "from sklearn.preprocessing import OneHotEncoder, LabelEncoder\n",
    "from scipy import sparse"
   ]
  },
  {
   "cell_type": "code",
   "execution_count": 32,
   "metadata": {
    "collapsed": false
   },
   "outputs": [
    {
     "name": "stdout",
     "output_type": "stream",
     "text": [
      "   age   pet  salary\n",
      "0    4   cat       4\n",
      "1    6   dog       5\n",
      "2    3   dog       1\n",
      "3    3  fish       1\n",
      "\n",
      "\n",
      "   age  salary  pet_cat  pet_dog  pet_fish\n",
      "0    4       4      1.0      0.0       0.0\n",
      "1    6       5      0.0      1.0       0.0\n",
      "2    3       1      0.0      1.0       0.0\n",
      "3    3       1      0.0      0.0       1.0\n",
      "\n",
      "\n",
      "   age  salary  pet_dog  pet_fish\n",
      "0    4       4      0.0       0.0\n",
      "1    6       5      1.0       0.0\n",
      "2    3       1      1.0       0.0\n",
      "3    3       1      0.0       1.0\n"
     ]
    }
   ],
   "source": [
    "# 使用pandas对dataframe进行one-hot编码\n",
    "\n",
    "rawdata = pd.read_csv('./onehot.txt')\n",
    "\n",
    "train_x = np.array(rawdata)\n",
    "\n",
    "print(rawdata)\n",
    "print(\"\\n\")\n",
    "data = pd.get_dummies(rawdata, columns=['pet'])                                  # 经过one-hot编码\n",
    "\n",
    "print(data)\n",
    "print(\"\\n\")\n",
    "# dummy-encoding\n",
    "\n",
    "data2 = pd.get_dummies(rawdata, columns=['pet'], drop_first=True)                # 经过dummy-encoding（剔除了第一个变量）\n",
    "\n",
    "print(data2)"
   ]
  },
  {
   "cell_type": "code",
   "execution_count": 22,
   "metadata": {
    "collapsed": false
   },
   "outputs": [
    {
     "name": "stdout",
     "output_type": "stream",
     "text": [
      "[2 3 4]\n",
      "[0 2 5 9]\n"
     ]
    }
   ],
   "source": [
    "# 使用sklearn进行one-hot encoding\n",
    "# sklearn中的OneHotEncoder提供fit(X),transform(X),fit_transform(X)\n",
    "# 其中X是一个二维数组，且数组类型为int，不能直接处理字符串类型的Categorical Varibale OneHotEncoder后的编码长度是原来每个特征各自的类别数之和\n",
    "\n",
    "sample = np.array([[0, 0, 3], [1, 1, 0], [0, 2, 1], [1, 0, 2]])\n",
    "\n",
    "enc = OneHotEncoder()\n",
    "enc.fit(sample)\n",
    "\n",
    "print(enc.n_values_)         # 每个维度的类的个数\n",
    "print(enc.feature_indices_)  # 特征的索引"
   ]
  },
  {
   "cell_type": "code",
   "execution_count": 25,
   "metadata": {
    "collapsed": false
   },
   "outputs": [
    {
     "name": "stdout",
     "output_type": "stream",
     "text": [
      "[0 1 1 2]\n"
     ]
    }
   ],
   "source": [
    "# 通过sklearn进行字符串的one-hot-encoding\n",
    "# 通过LabelEncoder把字符串类型定性特征转变为连续的数值型变量，再用OneHotEncoder二值化。 \n",
    "\n",
    "lenc = LabelEncoder()\n",
    "lenc_data = lenc.fit_transform(rawdata['pet'])\n",
    "print(lenc_data)"
   ]
  },
  {
   "cell_type": "code",
   "execution_count": 28,
   "metadata": {
    "collapsed": false
   },
   "outputs": [
    {
     "name": "stdout",
     "output_type": "stream",
     "text": [
      "[[ 1.  0.  0.]\n",
      " [ 0.  1.  0.]\n",
      " [ 0.  1.  0.]\n",
      " [ 0.  0.  1.]]\n"
     ]
    }
   ],
   "source": [
    "enc = OneHotEncoder(sparse=False)\n",
    "enc_data = enc.fit_transform(lenc_data.reshape(-1, 1))\n",
    "print(enc_data)"
   ]
  }
 ],
 "metadata": {
  "anaconda-cloud": {},
  "kernelspec": {
   "display_name": "Python [conda root]",
   "language": "python",
   "name": "conda-root-py"
  },
  "language_info": {
   "codemirror_mode": {
    "name": "ipython",
    "version": 3
   },
   "file_extension": ".py",
   "mimetype": "text/x-python",
   "name": "python",
   "nbconvert_exporter": "python",
   "pygments_lexer": "ipython3",
   "version": "3.5.2"
  }
 },
 "nbformat": 4,
 "nbformat_minor": 1
}

{
 "cells": [
  {
   "cell_type": "code",
   "execution_count": 4,
   "metadata": {
    "collapsed": true
   },
   "outputs": [],
   "source": [
    "# 特征处理——归一化/标准化/正则化\n",
    "\n",
    "from sklearn import preprocessing\n",
    "import numpy as np"
   ]
  },
  {
   "cell_type": "code",
   "execution_count": 9,
   "metadata": {
    "collapsed": false
   },
   "outputs": [
    {
     "name": "stdout",
     "output_type": "stream",
     "text": [
      "[[ 0.         -1.22474487  1.33630621]\n",
      " [ 1.22474487  0.         -0.26726124]\n",
      " [-1.22474487  1.22474487 -1.06904497]]\n",
      "[ 0.  0.  0.]\n",
      "[ 1.  1.  1.]\n"
     ]
    }
   ],
   "source": [
    "# 一、z-score：x = (x-mean)/std\n",
    "\n",
    "# 1、通过scale方法直接标准化特征值\n",
    "X = np.array([[ 1., -1.,  2.],\n",
    "              [ 2.,  0.,  0.],\n",
    "              [ 0.,  1., -1.]])\n",
    "\n",
    "X_scaled = preprocessing.scale(X)\n",
    "\n",
    "print(X_scaled)\n",
    "\n",
    "print(X_scaled.mean(axis=0))                            # 打印标准化的特征均值\n",
    "\n",
    "print(X_scaled.std(axis=0))                             # 打印标准化的特征方差\n"
   ]
  },
  {
   "cell_type": "code",
   "execution_count": 15,
   "metadata": {
    "collapsed": false
   },
   "outputs": [
    {
     "name": "stdout",
     "output_type": "stream",
     "text": [
      "[ 1.          0.          0.33333333]\n",
      "[[ 0.         -1.22474487  1.33630621]\n",
      " [ 1.22474487  0.         -0.26726124]\n",
      " [-1.22474487  1.22474487 -1.06904497]]\n"
     ]
    }
   ],
   "source": [
    "# 2、通过StandardScaler类：该类的好处在于可以保存训练集中的参数（均值、方差）直接使用其对象转换测试集数据。\n",
    "\n",
    "scaler = preprocessing.StandardScaler().fit(X)\n",
    "\n",
    "print(scaler.mean_)\n",
    "print(scaler.transform(X))\n",
    "\n",
    "# 可以直接对测试集进行标准化，\n",
    "# test_X = xxx\n",
    "# scaler.transform(test_X)"
   ]
  },
  {
   "cell_type": "code",
   "execution_count": 33,
   "metadata": {
    "collapsed": false
   },
   "outputs": [
    {
     "name": "stdout",
     "output_type": "stream",
     "text": [
      "[[ 0.5         0.          1.        ]\n",
      " [ 1.          0.5         0.33333333]\n",
      " [ 0.          1.          0.        ]]\n"
     ]
    },
    {
     "data": {
      "text/plain": [
       "array([[-1.5       ,  0.        ,  1.66666667]])"
      ]
     },
     "execution_count": 33,
     "metadata": {},
     "output_type": "execute_result"
    }
   ],
   "source": [
    "# 二、max-min : x = (x-min)/(max-min)\n",
    "\n",
    "min_max_scaler = preprocessing.MinMaxScaler()                  # 参数feature_range可指定缩放特征的区间\n",
    "\n",
    "min_max = min_max_scaler.fit_transform(X)\n",
    "\n",
    "print(min_max)\n",
    "\n",
    "# 测试集中使用\n",
    "test_X = np.array([[ -3., -1.,  4.]], dtype='float')\n",
    "min_max_scaler.transform(test_X)\n",
    "\n",
    "# print(min_max_scaler.data_min_)                              # 打印最小最大值\n",
    "# print(min_max_scaler.data_max_)"
   ]
  },
  {
   "cell_type": "code",
   "execution_count": 39,
   "metadata": {
    "collapsed": false
   },
   "outputs": [
    {
     "name": "stdout",
     "output_type": "stream",
     "text": [
      "[[ 0.40824829 -0.40824829  0.81649658]\n",
      " [ 1.          0.          0.        ]\n",
      " [ 0.          0.70710678 -0.70710678]]\n",
      "[[ 0.40824829 -0.40824829  0.81649658]\n",
      " [ 1.          0.          0.        ]\n",
      " [ 0.          0.70710678 -0.70710678]]\n"
     ]
    }
   ],
   "source": [
    "# 三、正则化：x = x / ||x||\n",
    "\n",
    "normalizer = preprocessing.Normalizer()\n",
    "\n",
    "nt = normalizer.fit_transform(X)\n",
    "\n",
    "print(nt)\n",
    "\n",
    "# 可以直接对测试集进行正则化，\n",
    "# test_X = xxx\n",
    "# normalizer.transform(test_X)\n",
    "\n",
    "# 使用normalize()函数\n",
    "\n",
    "normalizer2 = preprocessing.normalize(X)\n",
    "print(normalizer2)"
   ]
  }
 ],
 "metadata": {
  "kernelspec": {
   "display_name": "Python [conda root]",
   "language": "python",
   "name": "conda-root-py"
  },
  "language_info": {
   "codemirror_mode": {
    "name": "ipython",
    "version": 3
   },
   "file_extension": ".py",
   "mimetype": "text/x-python",
   "name": "python",
   "nbconvert_exporter": "python",
   "pygments_lexer": "ipython3",
   "version": "3.5.2"
  }
 },
 "nbformat": 4,
 "nbformat_minor": 1
}

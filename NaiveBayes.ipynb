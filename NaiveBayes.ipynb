{
 "cells": [
  {
   "cell_type": "code",
   "execution_count": 14,
   "metadata": {
    "collapsed": true
   },
   "outputs": [],
   "source": [
    "from sklearn.naive_bayes import GaussianNB\n",
    "import pandas as pd\n",
    "import numpy as np\n",
    "\n",
    "# 在scikit-learn中，一共有3个朴素贝叶斯的分类算法类。\n",
    "# 分别是GaussianNB，MultinomialNB和BernoulliNB。\n",
    "# GaussianNB就是先验为高斯分布的朴素贝叶斯，\n",
    "# MultinomialNB就是先验为多项式分布的朴素贝叶斯\n",
    "# BernoulliNB就是先验为伯努利分布的朴素贝叶斯。\n",
    "\n",
    "# 主要根据数据类型来进行模型的选择。\n",
    "# 一般来说，如果样本特征的分布大部分是连续值，使用GaussianNB会比较好。\n",
    "# 如果如果样本特征的分大部分是多元离散值，使用MultinomialNB比较合适。\n",
    "# 而如果样本特征是二元离散值或者很稀疏的多元离散值，应该使用BernoulliNB。"
   ]
  },
  {
   "cell_type": "code",
   "execution_count": 11,
   "metadata": {
    "collapsed": false
   },
   "outputs": [],
   "source": [
    "# 分割数据集\n",
    "data1 = np.array(pd.read_csv(\"http://139.199.178.177/wencai/data_20180801.txt\"))\n",
    "data2 = np.array(pd.read_csv(\"http://139.199.178.177/wencai/data_20180731.txt\"))\n",
    "data3 = np.array(pd.read_csv(\"http://139.199.178.177/wencai/data_20180727.txt\"))\n",
    "data4 = np.array(pd.read_csv(\"http://139.199.178.177/wencai/data_20180726.txt\"))\n",
    "data5 = np.array(pd.read_csv(\"http://139.199.178.177/wencai/data_20180725.txt\"))\n",
    "\n",
    "data = np.vstack((data1, data2, data3, data4, data5))\n",
    "\n",
    "x = np.array(data[:,1:7], dtype='float')\n",
    "y = np.array(data[:,7], dtype='int')\n",
    "\n",
    "train_x = x[:13500, :]\n",
    "train_y = y[:13500]\n",
    "test_x = x[13500:, :]\n",
    "test_y = y[13500:]"
   ]
  },
  {
   "cell_type": "code",
   "execution_count": 12,
   "metadata": {
    "collapsed": false
   },
   "outputs": [
    {
     "data": {
      "text/plain": [
       "GaussianNB()"
      ]
     },
     "execution_count": 12,
     "metadata": {},
     "output_type": "execute_result"
    }
   ],
   "source": [
    "# 朴素贝叶斯进行估计\n",
    "bayes = GaussianNB()                # 先验概率为高斯分布的朴素贝叶斯\n",
    "bayes.fit(train_x, train_y)"
   ]
  },
  {
   "cell_type": "code",
   "execution_count": 13,
   "metadata": {
    "collapsed": false
   },
   "outputs": [
    {
     "data": {
      "text/plain": [
       "0.5664494190988949"
      ]
     },
     "execution_count": 13,
     "metadata": {},
     "output_type": "execute_result"
    }
   ],
   "source": [
    "bayes.score(test_x, test_y)"
   ]
  }
 ],
 "metadata": {
  "anaconda-cloud": {},
  "kernelspec": {
   "display_name": "Python [conda root]",
   "language": "python",
   "name": "conda-root-py"
  },
  "language_info": {
   "codemirror_mode": {
    "name": "ipython",
    "version": 3
   },
   "file_extension": ".py",
   "mimetype": "text/x-python",
   "name": "python",
   "nbconvert_exporter": "python",
   "pygments_lexer": "ipython3",
   "version": "3.5.2"
  }
 },
 "nbformat": 4,
 "nbformat_minor": 1
}

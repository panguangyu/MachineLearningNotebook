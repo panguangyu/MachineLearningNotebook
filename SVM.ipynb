{
 "cells": [
  {
   "cell_type": "code",
   "execution_count": 1,
   "metadata": {
    "collapsed": false
   },
   "outputs": [],
   "source": [
    "# SVM：支持向量机，sklearn中分为两种：SVC:support vector classify 支持向量分类器 ， SVR:support vector regression 支持向量回归机\n",
    "\n",
    "# support vector classify（SVC）支持分类机做二分类的，找出分类面，解决分类问题\n",
    "# support vector regression（SVR）支持回归机做曲线拟合、函数回归 ，做预测，温度，天气，股票\n",
    "\n",
    "from sklearn.datasets import load_iris\n",
    "import numpy as np\n",
    "from sklearn.svm import SVC\n",
    "from sklearn.model_selection import GridSearchCV, train_test_split"
   ]
  },
  {
   "cell_type": "code",
   "execution_count": 2,
   "metadata": {
    "collapsed": false
   },
   "outputs": [],
   "source": [
    "iris = load_iris()\n",
    "iris_class = iris.target\n",
    "iris_data = iris.data\n",
    "\n",
    "x_train, x_test, y_train, y_test = train_test_split(iris_data, iris_class, test_size=0.2)"
   ]
  },
  {
   "cell_type": "code",
   "execution_count": 29,
   "metadata": {
    "collapsed": false
   },
   "outputs": [
    {
     "data": {
      "text/plain": [
       "GridSearchCV(cv=None, error_score='raise',\n",
       "       estimator=SVC(C=1.0, cache_size=200, class_weight=None, coef0=0.0,\n",
       "  decision_function_shape='ovr', degree=3, gamma='auto', kernel='rbf',\n",
       "  max_iter=-1, probability=False, random_state=None, shrinking=True,\n",
       "  tol=0.001, verbose=False),\n",
       "       fit_params=None, iid=True, n_jobs=1,\n",
       "       param_grid={'kernel': ('linear', 'rbf', 'poly', 'sigmoid'), 'C': array([  1.00000e-02,   1.62378e-02,   2.63665e-02,   4.28133e-02,\n",
       "         6.95193e-02,   1.12884e-01,   1.83298e-01,   2.97635e-01,\n",
       "         4.83293e-01,   7.84760e-01,   1.27427e+00,   2.06914e+00,\n",
       "         3.35982e+00,   5.45559e+0...,   8.85867e+00,   1.43845e+01,\n",
       "         2.33572e+01,   3.79269e+01,   6.15848e+01,   1.00000e+02])},\n",
       "       pre_dispatch='2*n_jobs', refit=True, return_train_score=True,\n",
       "       scoring=None, verbose=0)"
      ]
     },
     "execution_count": 29,
     "metadata": {},
     "output_type": "execute_result"
    }
   ],
   "source": [
    "# 1、SVM调参：使用Grid网格搜索获取最佳svc参数\n",
    "\n",
    "# 选择最优的核函数：线性核函数、高斯核函数、多项式核函数、sigmoid核函数\n",
    "kernel_range = ('linear', 'rbf', 'poly', 'sigmoid')\n",
    "\n",
    "# 利用logspace生成10（-2）次方到10（2）次方之间的20个数，这20个数成等比数列\n",
    "c_range = np.logspace(-2, 2, 20)\n",
    "gamma_range = np.logspace(-2, 2, 20)\n",
    "\n",
    "grid = GridSearchCV(SVC(), param_grid = {'kernel':kernel_range, \"C\":c_range, \"gamma\":gamma_range})\n",
    "grid.fit(x_train, y_train)"
   ]
  },
  {
   "cell_type": "code",
   "execution_count": 30,
   "metadata": {
    "collapsed": false
   },
   "outputs": [
    {
     "name": "stdout",
     "output_type": "stream",
     "text": [
      "{'kernel': 'linear', 'C': 0.48329302385717521, 'gamma': 0.01} 0.983333333333\n"
     ]
    }
   ],
   "source": [
    "# 2、打印最佳参数及该参数下的得分\n",
    "print(grid.best_params_, grid.best_score_)"
   ]
  },
  {
   "cell_type": "code",
   "execution_count": 31,
   "metadata": {
    "collapsed": false
   },
   "outputs": [
    {
     "name": "stdout",
     "output_type": "stream",
     "text": [
      "SVC(C=0.48329302385717521, cache_size=200, class_weight=None, coef0=0.0,\n",
      "  decision_function_shape='ovr', degree=3, gamma=0.01, kernel='linear',\n",
      "  max_iter=-1, probability=False, random_state=None, shrinking=True,\n",
      "  tol=0.001, verbose=False)\n"
     ]
    }
   ],
   "source": [
    "# 3、输出最好的分类器\n",
    "svc = grid.best_estimator_\n",
    "print(grid.best_estimator_)"
   ]
  },
  {
   "cell_type": "code",
   "execution_count": 32,
   "metadata": {
    "collapsed": false
   },
   "outputs": [
    {
     "data": {
      "text/plain": [
       "SVC(C=0.48329302385717521, cache_size=200, class_weight=None, coef0=0.0,\n",
       "  decision_function_shape='ovr', degree=3, gamma=0.01, kernel='linear',\n",
       "  max_iter=-1, probability=False, random_state=None, shrinking=True,\n",
       "  tol=0.001, verbose=False)"
      ]
     },
     "execution_count": 32,
     "metadata": {},
     "output_type": "execute_result"
    }
   ],
   "source": [
    "# 3、获取最佳参数，并进行训练\n",
    "# c = grid.best_params_['C']                                         # 对错误项的惩罚因子\n",
    "# gamma = grid.best_params_['gamma']                                    # 高斯核的变量\n",
    "# kernel = grid.best_params_['kernel']                             # 选择的核函数类型\n",
    "# svc = SVC(kernel = kernel, C = c, gamma = gamma)\n",
    "svc.fit(x_train, y_train)"
   ]
  },
  {
   "cell_type": "code",
   "execution_count": 33,
   "metadata": {
    "collapsed": false
   },
   "outputs": [
    {
     "data": {
      "text/plain": [
       "1.0"
      ]
     },
     "execution_count": 33,
     "metadata": {},
     "output_type": "execute_result"
    }
   ],
   "source": [
    "# 4、获取svc的预测结果得分\n",
    "svc.score(x_test, y_test)"
   ]
  },
  {
   "cell_type": "code",
   "execution_count": 34,
   "metadata": {
    "collapsed": false
   },
   "outputs": [
    {
     "data": {
      "text/plain": [
       "array([[ 4.5,  2.3,  1.3,  0.3],\n",
       "       [ 4.8,  3.4,  1.9,  0.2],\n",
       "       [ 5. ,  2.3,  3.3,  1. ],\n",
       "       [ 6. ,  2.7,  5.1,  1.6],\n",
       "       [ 6.8,  2.8,  4.8,  1.4],\n",
       "       [ 6.1,  2.8,  4.7,  1.2],\n",
       "       [ 6.3,  3.3,  4.7,  1.6],\n",
       "       [ 5.9,  3.2,  4.8,  1.8],\n",
       "       [ 6.7,  3.1,  4.7,  1.5],\n",
       "       [ 6. ,  2.9,  4.5,  1.5],\n",
       "       [ 6.7,  3. ,  5. ,  1.7],\n",
       "       [ 6.1,  2.9,  4.7,  1.4],\n",
       "       [ 6.3,  2.3,  4.4,  1.3],\n",
       "       [ 5.1,  2.5,  3. ,  1.1],\n",
       "       [ 6.3,  2.5,  4.9,  1.5],\n",
       "       [ 5.4,  3. ,  4.5,  1.5],\n",
       "       [ 6.1,  3. ,  4.6,  1.4],\n",
       "       [ 6.2,  2.8,  4.8,  1.8],\n",
       "       [ 7.2,  3. ,  5.8,  1.6],\n",
       "       [ 4.9,  2.5,  4.5,  1.7],\n",
       "       [ 6.5,  3. ,  5.2,  2. ],\n",
       "       [ 6.4,  3.1,  5.5,  1.8],\n",
       "       [ 6.1,  3. ,  4.9,  1.8],\n",
       "       [ 5.6,  2.8,  4.9,  2. ],\n",
       "       [ 6. ,  2.2,  5. ,  1.5],\n",
       "       [ 5.9,  3. ,  5.1,  1.8],\n",
       "       [ 6.3,  2.7,  4.9,  1.8],\n",
       "       [ 6.3,  2.5,  5. ,  1.9],\n",
       "       [ 6.3,  2.8,  5.1,  1.5],\n",
       "       [ 6.9,  3.1,  5.1,  2.3],\n",
       "       [ 6.1,  2.6,  5.6,  1.4]])"
      ]
     },
     "execution_count": 34,
     "metadata": {},
     "output_type": "execute_result"
    }
   ],
   "source": [
    "# 5、打印支持向量\n",
    "svc.support_vectors_"
   ]
  },
  {
   "cell_type": "code",
   "execution_count": 36,
   "metadata": {
    "collapsed": false
   },
   "outputs": [
    {
     "data": {
      "text/plain": [
       "array([ 2, 15, 14])"
      ]
     },
     "execution_count": 36,
     "metadata": {},
     "output_type": "execute_result"
    }
   ],
   "source": [
    "# 6、打印每个分类对应的支持向量数量\n",
    "svc.n_support_"
   ]
  }
 ],
 "metadata": {
  "anaconda-cloud": {},
  "kernelspec": {
   "display_name": "Python [conda root]",
   "language": "python",
   "name": "conda-root-py"
  },
  "language_info": {
   "codemirror_mode": {
    "name": "ipython",
    "version": 3
   },
   "file_extension": ".py",
   "mimetype": "text/x-python",
   "name": "python",
   "nbconvert_exporter": "python",
   "pygments_lexer": "ipython3",
   "version": "3.5.2"
  }
 },
 "nbformat": 4,
 "nbformat_minor": 1
}

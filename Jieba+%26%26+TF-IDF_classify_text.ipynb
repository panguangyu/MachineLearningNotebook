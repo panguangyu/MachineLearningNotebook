{
 "cells": [
  {
   "cell_type": "code",
   "execution_count": 1,
   "metadata": {
    "collapsed": true
   },
   "outputs": [],
   "source": [
    "# 结巴分词与TF-IDF进行文本聚类\n",
    "\n",
    "import jieba\n",
    "import jieba.analyse\n",
    "import numpy as np\n",
    "from sklearn.feature_extraction.text import CountVectorizer\n",
    "from sklearn.feature_extraction.text import TfidfTransformer\n",
    "from sklearn.datasets import fetch_20newsgroups"
   ]
  },
  {
   "cell_type": "code",
   "execution_count": 2,
   "metadata": {
    "collapsed": false
   },
   "outputs": [],
   "source": [
    "with open(\"./demo.txt\", 'r') as f:\n",
    "    text = f.read()"
   ]
  },
  {
   "cell_type": "code",
   "execution_count": 3,
   "metadata": {
    "collapsed": false
   },
   "outputs": [
    {
     "name": "stderr",
     "output_type": "stream",
     "text": [
      "Building prefix dict from the default dictionary ...\n",
      "Loading model from cache C:\\Users\\VIRUSE~1.V-D\\AppData\\Local\\Temp\\jieba.cache\n",
      "Loading model cost 1.853 seconds.\n",
      "Prefix dict has been built succesfully.\n"
     ]
    }
   ],
   "source": [
    "sentence = jieba.cut(text)\n",
    "sentence = \" \".join(sentence)    # 拼接成句子"
   ]
  },
  {
   "cell_type": "code",
   "execution_count": 4,
   "metadata": {
    "collapsed": false
   },
   "outputs": [
    {
     "name": "stdout",
     "output_type": "stream",
     "text": [
      "8 月 6 日 ， 《 证券日报 》 记者 从 相关 基金 公司 获悉 ， 华夏 基金 等 14 家 基金 公司 旗下 养老 目标 基金 获批 的 消息 迅速 传开 ， 仅 历经 117 天 的 “ 选秀 ” 之 路 ， 首批 14 只 养老 目标 基金 便 快速 “ 出 道 ” 。 目前 ， 仍 有 14 家 基金 公司 的 43 只 养老 目标 基金 正在 排队 待审 。 \n",
      " \n",
      " 　 　 据 《 证券日报 》 记者 查询 ， 14 只 养老 目标 基金 均 为 今年 4 月 11 日 首批 递交 的 申请材料 。 从 产品设计 来看 ， 首批 养老 目标 基金 以 目标 日期 基金 为主 ， 其中 瞄准 65 岁 退休 日期 设计 的 2035 目标 日期 基金 居多 。 这 符合 市场 此前 对于 首批 养老 目标 基金 的 预测 。 \n",
      " \n",
      " 　 　 有 业内人士 表示 ， “ 养老 目标 基金 致力于 帮助 投资者 解决 养老 难题 ， 公募 基金 契合 了 养老金 运营 安全性 的 要求 ， 能 匹配 养老金 多方面 需求 。 ” \n",
      " \n",
      " 　 　 养老 目标 基金 的 获批 发行 对于 资本 市场 有 重要 意义 ， 将 为 A股 市场 引入 万亿元 增量 资金 ， 亦 有 火线 救 市 意味 。 市场 人士 指出 ， 首批 养老 目标 基金 有 两大 优势 ： 一是 养老 目标 基金 作为 一种 新型 投资 品种 ， 主要 以 追求 养老 资产 的 长期 稳健 增值 为 目的 ， 鼓励 投资者 长期 持有 ， 其 投资 目标 明确 、 投资 风格 偏 稳健 ， 符合 低 风险 投资者 的 要求 。 二是 公募 基金 是 养老金 投资 运营 的 良好 载体 ， 是 运作 最 规范 的 财富 管理机构 ， 20 年来 积累 了 丰富 管理 经验 ， 是 养老金 主力军 的 重要 保障 。 \n",
      " \n",
      " 　 　 有 基金 公司 相关 人士 向 《 证券日报 》 记者 透露 ， “ 在 完成 必要 程序 和 准备 工作 后 ， 部分 养老 目标 基金 很快 将 进入 发行 阶段 。 ” \n",
      " \n",
      " 　 　 目前 国内 养老 目标 基金 主要 采用 两种 投资 策略 — — 目标 日期 策略 和 目标 风险 策略 。 目标 日期 基金会 随着 所 设定 目标 日期 的 临近 ， 逐步 降低 权益 类 资产 的 配置 比例 ， 增加 非 权益 类 资产 的 配置 比例 ； 目标 风险 基金 主要 目的 是 向 大众 提供 具有 不同 层次 风险 目标 的 投资 方案 。 \n",
      " \n",
      " 　 　 “ 目标 日期 基金 最 显著 的 特色 ， 就是 它 是 一种 一站式 的 养老金 投资 模式 。 投资者 只 需要 买入 即可 ， 后续 不再 需要 费心 ， 会 由 专业 的 投资 管理 人 进行 资产 配置 调整 ， 帮助 投资者 分享 资本 市场 的 各 阶段 投资 机会 。 ” 华夏 基金 有关 负责人 表示 。 \n",
      " \n",
      " 　 　 工 银瑞信 基金 相关 人士 分析 表示 ： “ 从 海外 成熟 市场 来看 ， 目标 日期 基金 是 个人 养老 投资 主要 品种 ， 特点 是 解决 了 个人 投资者 选择 能力 不高 、 投资 非理性 等 难点 ， 提供 了 养老 一站式 服务 ， 深受 个人 投资者 的 欢迎 。 ” \n",
      " \n",
      " 　 　 自 4 月 11 日 养老 目标 基金 开始 申报 至 7 月 6 日 ， 已有 28 家 基金 公司 共 申报 57 只 养老 目标 基金 。\n"
     ]
    }
   ],
   "source": [
    "print(sentence)"
   ]
  },
  {
   "cell_type": "code",
   "execution_count": 5,
   "metadata": {
    "collapsed": false
   },
   "outputs": [
    {
     "data": {
      "text/plain": [
       "['养老',\n",
       " '目标',\n",
       " '基金',\n",
       " '日期',\n",
       " '14',\n",
       " '养老金',\n",
       " '投资',\n",
       " '首批',\n",
       " '投资者',\n",
       " '获批',\n",
       " '11',\n",
       " '公募',\n",
       " '证券日报',\n",
       " '资产',\n",
       " '一站式',\n",
       " '市场',\n",
       " '风险',\n",
       " '配置',\n",
       " '公司',\n",
       " '策略']"
      ]
     },
     "execution_count": 5,
     "metadata": {},
     "output_type": "execute_result"
    }
   ],
   "source": [
    "jieba.analyse.extract_tags(text, topK=20, withWeight=False, allowPOS=())   # 基于 TF-IDF 算法的关键词抽取"
   ]
  },
  {
   "cell_type": "code",
   "execution_count": 6,
   "metadata": {
    "collapsed": false
   },
   "outputs": [],
   "source": [
    "sentence = [sentence]    # 转化成数组，格式是[\"词语1 词语2 词语3\"， ...] 一个元素代表一个文本\n",
    "vectorizer = CountVectorizer()    # 计算文本的词频矩阵\n",
    "arr = vectorizer.fit_transform(sentence)  # 矩阵元素a[i][j] 表示j词在i个文本下的词频"
   ]
  },
  {
   "cell_type": "code",
   "execution_count": 7,
   "metadata": {
    "collapsed": false
   },
   "outputs": [],
   "source": [
    "transformer = TfidfTransformer()\n",
    "tfidf = transformer.fit_transform(arr) # 传入词频向量计算tf-idf"
   ]
  },
  {
   "cell_type": "code",
   "execution_count": 8,
   "metadata": {
    "collapsed": false
   },
   "outputs": [
    {
     "name": "stdout",
     "output_type": "stream",
     "text": [
      "11 0.0399202392028\n",
      "117 0.0199601196014\n",
      "14 0.0798404784056\n",
      "20 0.0199601196014\n",
      "2035 0.0199601196014\n",
      "28 0.0199601196014\n",
      "43 0.0199601196014\n",
      "57 0.0199601196014\n",
      "65 0.0199601196014\n",
      "a股 0.0199601196014\n",
      "一是 0.0199601196014\n",
      "一种 0.0399202392028\n",
      "一站式 0.0399202392028\n",
      "万亿元 0.0199601196014\n",
      "不再 0.0199601196014\n",
      "不同 0.0199601196014\n",
      "不高 0.0199601196014\n",
      "专业 0.0199601196014\n",
      "业内人士 0.0199601196014\n",
      "两大 0.0199601196014\n",
      "两种 0.0199601196014\n",
      "个人 0.0598803588042\n",
      "丰富 0.0199601196014\n",
      "临近 0.0199601196014\n",
      "为主 0.0199601196014\n",
      "主力军 0.0199601196014\n",
      "主要 0.0798404784056\n",
      "买入 0.0199601196014\n",
      "二是 0.0199601196014\n",
      "产品设计 0.0199601196014\n",
      "人士 0.0598803588042\n",
      "今年 0.0199601196014\n",
      "优势 0.0199601196014\n",
      "传开 0.0199601196014\n",
      "作为 0.0199601196014\n",
      "保障 0.0199601196014\n",
      "公募 0.0399202392028\n",
      "公司 0.099800598007\n",
      "其中 0.0199601196014\n",
      "具有 0.0199601196014\n",
      "养老 0.359282152825\n",
      "养老金 0.099800598007\n",
      "准备 0.0199601196014\n",
      "分享 0.0199601196014\n",
      "分析 0.0199601196014\n",
      "匹配 0.0199601196014\n",
      "华夏 0.0399202392028\n",
      "即可 0.0199601196014\n",
      "历经 0.0199601196014\n",
      "发行 0.0399202392028\n",
      "后续 0.0199601196014\n",
      "品种 0.0399202392028\n",
      "国内 0.0199601196014\n",
      "基金 0.57884346844\n",
      "基金会 0.0199601196014\n",
      "增值 0.0199601196014\n",
      "增加 0.0199601196014\n",
      "增量 0.0199601196014\n",
      "多方面 0.0199601196014\n",
      "大众 0.0199601196014\n",
      "契合 0.0199601196014\n",
      "安全性 0.0199601196014\n",
      "完成 0.0199601196014\n",
      "对于 0.0399202392028\n",
      "就是 0.0199601196014\n",
      "层次 0.0199601196014\n",
      "居多 0.0199601196014\n",
      "工作 0.0199601196014\n",
      "已有 0.0199601196014\n",
      "市场 0.119760717608\n",
      "帮助 0.0399202392028\n",
      "年来 0.0199601196014\n",
      "开始 0.0199601196014\n",
      "引入 0.0199601196014\n",
      "待审 0.0199601196014\n",
      "很快 0.0199601196014\n",
      "必要 0.0199601196014\n",
      "快速 0.0199601196014\n",
      "意义 0.0199601196014\n",
      "意味 0.0199601196014\n",
      "成熟 0.0199601196014\n",
      "投资 0.219561315615\n",
      "投资者 0.13972083721\n",
      "持有 0.0199601196014\n",
      "指出 0.0199601196014\n",
      "排队 0.0199601196014\n",
      "提供 0.0399202392028\n",
      "新型 0.0199601196014\n",
      "方案 0.0199601196014\n",
      "旗下 0.0199601196014\n",
      "日期 0.159680956811\n",
      "明确 0.0199601196014\n",
      "显著 0.0199601196014\n",
      "有关 0.0199601196014\n",
      "服务 0.0199601196014\n",
      "机会 0.0199601196014\n",
      "权益 0.0399202392028\n",
      "来看 0.0399202392028\n",
      "查询 0.0199601196014\n",
      "模式 0.0199601196014\n",
      "欢迎 0.0199601196014\n",
      "正在 0.0199601196014\n",
      "此前 0.0199601196014\n",
      "比例 0.0399202392028\n",
      "海外 0.0199601196014\n",
      "消息 0.0199601196014\n",
      "深受 0.0199601196014\n",
      "火线 0.0199601196014\n",
      "特点 0.0199601196014\n",
      "特色 0.0199601196014\n",
      "申报 0.0399202392028\n",
      "申请材料 0.0199601196014\n",
      "目前 0.0399202392028\n",
      "目标 0.499002990035\n",
      "目的 0.0399202392028\n",
      "相关 0.0598803588042\n",
      "瞄准 0.0199601196014\n",
      "积累 0.0199601196014\n",
      "程序 0.0199601196014\n",
      "稳健 0.0399202392028\n",
      "符合 0.0399202392028\n",
      "策略 0.0598803588042\n",
      "管理 0.0399202392028\n",
      "管理机构 0.0199601196014\n",
      "经验 0.0199601196014\n",
      "能力 0.0199601196014\n",
      "致力于 0.0199601196014\n",
      "良好 0.0199601196014\n",
      "获悉 0.0199601196014\n",
      "获批 0.0399202392028\n",
      "表示 0.0598803588042\n",
      "要求 0.0399202392028\n",
      "规范 0.0199601196014\n",
      "解决 0.0399202392028\n",
      "记者 0.0598803588042\n",
      "设定 0.0199601196014\n",
      "设计 0.0199601196014\n",
      "证券日报 0.0598803588042\n",
      "调整 0.0199601196014\n",
      "负责人 0.0199601196014\n",
      "财富 0.0199601196014\n",
      "费心 0.0199601196014\n",
      "资产 0.0798404784056\n",
      "资本 0.0399202392028\n",
      "资金 0.0199601196014\n",
      "载体 0.0199601196014\n",
      "迅速 0.0199601196014\n",
      "运作 0.0199601196014\n",
      "运营 0.0399202392028\n",
      "进入 0.0199601196014\n",
      "进行 0.0199601196014\n",
      "追求 0.0199601196014\n",
      "退休 0.0199601196014\n",
      "选择 0.0199601196014\n",
      "选秀 0.0199601196014\n",
      "透露 0.0199601196014\n",
      "逐步 0.0199601196014\n",
      "递交 0.0199601196014\n",
      "部分 0.0199601196014\n",
      "配置 0.0598803588042\n",
      "采用 0.0199601196014\n",
      "重要 0.0399202392028\n",
      "银瑞信 0.0199601196014\n",
      "长期 0.0399202392028\n",
      "阶段 0.0399202392028\n",
      "降低 0.0199601196014\n",
      "随着 0.0199601196014\n",
      "难点 0.0199601196014\n",
      "难题 0.0199601196014\n",
      "需求 0.0199601196014\n",
      "需要 0.0399202392028\n",
      "非理性 0.0199601196014\n",
      "预测 0.0199601196014\n",
      "风格 0.0199601196014\n",
      "风险 0.0798404784056\n",
      "首批 0.099800598007\n",
      "鼓励 0.0199601196014\n"
     ]
    }
   ],
   "source": [
    "word = vectorizer.get_feature_names()  # 获取词袋模型中的词语\n",
    "weight = tfidf.toarray()               # 将tf-idf矩阵抽取出来，元素a[i][j]表示j词在i个文本中的tf-idf权重\n",
    "\n",
    "for i in range(len(weight)):\n",
    "    for j in range(len(word)):\n",
    "        print(word[j], weight[i][j])"
   ]
  },
  {
   "cell_type": "code",
   "execution_count": 9,
   "metadata": {
    "collapsed": false
   },
   "outputs": [],
   "source": [
    "# 利用sklearn的20个新闻聚类数据集进行td-idf的文本聚类\n",
    "categories = ['comp.graphics',\n",
    " 'comp.os.ms-windows.misc',\n",
    " 'comp.sys.ibm.pc.hardware',\n",
    " 'comp.sys.mac.hardware',\n",
    " 'comp.windows.x'];\n",
    "\n",
    "twenty_train = fetch_20newsgroups(subset = 'train', categories = categories, shuffle = True, random_state = 42)"
   ]
  },
  {
   "cell_type": "code",
   "execution_count": 10,
   "metadata": {
    "collapsed": false
   },
   "outputs": [
    {
     "data": {
      "text/plain": [
       "['comp.graphics',\n",
       " 'comp.os.ms-windows.misc',\n",
       " 'comp.sys.ibm.pc.hardware',\n",
       " 'comp.sys.mac.hardware',\n",
       " 'comp.windows.x']"
      ]
     },
     "execution_count": 10,
     "metadata": {},
     "output_type": "execute_result"
    }
   ],
   "source": [
    "twenty_train.target_names   # 新闻的分类名称"
   ]
  },
  {
   "cell_type": "code",
   "execution_count": 52,
   "metadata": {
    "collapsed": false
   },
   "outputs": [],
   "source": [
    "# twenty_train.data 训练数据集\n",
    "\n",
    "vectorizerTwenty = CountVectorizer()     # 将样本数据进行词频计算\n",
    "vectorOfTwenty = vectorizerTwenty.fit_transform(twenty_train.data)"
   ]
  },
  {
   "cell_type": "code",
   "execution_count": 53,
   "metadata": {
    "collapsed": false
   },
   "outputs": [],
   "source": [
    "transformerTwenty = TfidfTransformer()   # 计算td-idf\n",
    "x_train_tdidf = transformerTwenty.fit_transform(vectorOfTwenty)"
   ]
  },
  {
   "cell_type": "code",
   "execution_count": 54,
   "metadata": {
    "collapsed": false
   },
   "outputs": [],
   "source": [
    "# 利用朴素贝叶斯进行统计\n",
    "from sklearn.naive_bayes import MultinomialNB\n",
    "\n",
    "mnb = MultinomialNB().fit(x_train_tdidf, twenty_train.target)"
   ]
  },
  {
   "cell_type": "code",
   "execution_count": 58,
   "metadata": {
    "collapsed": false
   },
   "outputs": [
    {
     "name": "stdout",
     "output_type": "stream",
     "text": [
      "             precision    recall  f1-score   support\n",
      "\n",
      "          0       0.82      0.75      0.78       389\n",
      "          1       0.82      0.71      0.76       394\n",
      "          2       0.70      0.88      0.78       392\n",
      "          3       0.83      0.85      0.84       385\n",
      "          4       0.87      0.81      0.84       395\n",
      "\n",
      "avg / total       0.81      0.80      0.80      1955\n",
      "\n"
     ]
    }
   ],
   "source": [
    "# 预测一下测试集\n",
    "twenty_train_test = fetch_20newsgroups(subset = 'test', categories = categories, shuffle = True, random_state = 42)\n",
    "\n",
    "# 计算测试集的词频\n",
    "vectorOfTwentyTest = vectorizerTwenty.transform(twenty_train_test.data)\n",
    "\n",
    "# 计算测试机的tf-idf\n",
    "x_test_tdidf = transformerTwenty.transform(vectorOfTwentyTest).toarray()\n",
    "\n",
    "# 获取分数值\n",
    "predicted = mnb.predict(x_test_tdidf)\n",
    "\n",
    "from sklearn.metrics import classification_report\n",
    "print(classification_report(twenty_train_test.target, predicted))"
   ]
  }
 ],
 "metadata": {
  "anaconda-cloud": {},
  "kernelspec": {
   "display_name": "Python [conda root]",
   "language": "python",
   "name": "conda-root-py"
  },
  "language_info": {
   "codemirror_mode": {
    "name": "ipython",
    "version": 3
   },
   "file_extension": ".py",
   "mimetype": "text/x-python",
   "name": "python",
   "nbconvert_exporter": "python",
   "pygments_lexer": "ipython3",
   "version": "3.5.2"
  }
 },
 "nbformat": 4,
 "nbformat_minor": 1
}

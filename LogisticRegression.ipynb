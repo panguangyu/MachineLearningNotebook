{
 "cells": [
  {
   "cell_type": "code",
   "execution_count": 14,
   "metadata": {
    "collapsed": true
   },
   "outputs": [],
   "source": [
    "# 逻辑斯特回归，使用sklearn的乳癌训练集进行实例\n",
    "\n",
    "from sklearn.datasets import load_breast_cancer     \n",
    "from sklearn.linear_model import LogisticRegression\n",
    "from sklearn.model_selection import train_test_split\n",
    "\n",
    "# LogisticRegression和LogisticRegressionCV的主要区别:\n",
    "# LogisticRegressionCV使用了交叉验证来选择正则化系数C。而LogisticRegression需要自己每次指定一个正则化系数。\n",
    "# 除了交叉验证，以及选择正则化系数C以外， LogisticRegression和LogisticRegressionCV的使用方法基本相同。"
   ]
  },
  {
   "cell_type": "code",
   "execution_count": 7,
   "metadata": {
    "collapsed": false
   },
   "outputs": [],
   "source": [
    "breast_caner_data = load_breast_cancer()\n",
    "breast_caner_x = breast_caner_data.data              # 特征数据\n",
    "breast_caner_y = breast_caner_data.target            # 目标分类\n",
    "\n",
    "x_train, x_test, y_train, y_test = train_test_split(breast_caner_x, breast_caner_y, test_size = 0.3)   # 根据30%的测试集比例分割数据集"
   ]
  },
  {
   "cell_type": "code",
   "execution_count": 8,
   "metadata": {
    "collapsed": false
   },
   "outputs": [
    {
     "data": {
      "text/plain": [
       "LogisticRegression(C=1.0, class_weight=None, dual=False, fit_intercept=True,\n",
       "          intercept_scaling=1, max_iter=100, multi_class='ovr', n_jobs=1,\n",
       "          penalty='l2', random_state=None, solver='liblinear', tol=0.0001,\n",
       "          verbose=0, warm_start=False)"
      ]
     },
     "execution_count": 8,
     "metadata": {},
     "output_type": "execute_result"
    }
   ],
   "source": [
    "log = LogisticRegression()                           # 逻辑斯特回归模型\n",
    "log.fit(x_train, y_train)"
   ]
  },
  {
   "cell_type": "code",
   "execution_count": 10,
   "metadata": {
    "collapsed": false
   },
   "outputs": [
    {
     "data": {
      "text/plain": [
       "0.93567251461988299"
      ]
     },
     "execution_count": 10,
     "metadata": {},
     "output_type": "execute_result"
    }
   ],
   "source": [
    "log.score(x_test, y_test)                            # 查看测试集上的准确率"
   ]
  },
  {
   "cell_type": "code",
   "execution_count": 12,
   "metadata": {
    "collapsed": false
   },
   "outputs": [
    {
     "data": {
      "text/plain": [
       "array([[  2.21664408e+00,   8.29410345e-02,  -8.36368051e-02,\n",
       "          1.80043266e-03,  -1.31393518e-01,  -4.56534219e-01,\n",
       "         -6.10758460e-01,  -2.99909494e-01,  -2.16399901e-01,\n",
       "         -3.17119312e-02,  -8.00846454e-02,   9.83606971e-01,\n",
       "          1.91176932e-01,  -5.87671455e-02,  -1.45125000e-02,\n",
       "         -5.93601661e-02,  -7.81323930e-02,  -3.41166143e-02,\n",
       "         -5.96096024e-02,  -6.91493242e-03,   1.29580497e+00,\n",
       "         -2.75272304e-01,  -1.42765224e-01,  -2.88347661e-02,\n",
       "         -2.37289670e-01,  -1.16571764e+00,  -1.29781575e+00,\n",
       "         -5.35972722e-01,  -5.85329320e-01,  -1.20548547e-01]])"
      ]
     },
     "execution_count": 12,
     "metadata": {},
     "output_type": "execute_result"
    }
   ],
   "source": [
    "log.coef_                                            # 各个特征系数，θ1，θ2，...，θn"
   ]
  },
  {
   "cell_type": "code",
   "execution_count": 13,
   "metadata": {
    "collapsed": false
   },
   "outputs": [
    {
     "data": {
      "text/plain": [
       "array([ 0.41652715])"
      ]
     },
     "execution_count": 13,
     "metadata": {},
     "output_type": "execute_result"
    }
   ],
   "source": [
    "log.intercept_                                       # 截距，θ0"
   ]
  }
 ],
 "metadata": {
  "anaconda-cloud": {},
  "kernelspec": {
   "display_name": "Python [conda root]",
   "language": "python",
   "name": "conda-root-py"
  },
  "language_info": {
   "codemirror_mode": {
    "name": "ipython",
    "version": 3
   },
   "file_extension": ".py",
   "mimetype": "text/x-python",
   "name": "python",
   "nbconvert_exporter": "python",
   "pygments_lexer": "ipython3",
   "version": "3.5.2"
  }
 },
 "nbformat": 4,
 "nbformat_minor": 1
}

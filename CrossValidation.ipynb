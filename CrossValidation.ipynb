{
 "cells": [
  {
   "cell_type": "code",
   "execution_count": 41,
   "metadata": {
    "collapsed": true
   },
   "outputs": [],
   "source": [
    "# 交叉验证常见的方法汇总\n",
    "\n",
    "import numpy as np\n",
    "from sklearn.model_selection import KFold,RepeatedKFold,LeaveOneOut,LeavePOut,ShuffleSplit\n",
    "from sklearn.model_selection import cross_val_score,cross_validate\n",
    "from sklearn.model_selection import train_test_split\n",
    "from sklearn.datasets import load_iris\n",
    "from sklearn.linear_model import LogisticRegression"
   ]
  },
  {
   "cell_type": "code",
   "execution_count": 26,
   "metadata": {
    "collapsed": false
   },
   "outputs": [],
   "source": [
    "X = np.array([[1, 2], [3, 4], [5, 6], [7, 8]])\n",
    "y = np.array([1, 2, 3, 4])"
   ]
  },
  {
   "cell_type": "code",
   "execution_count": 32,
   "metadata": {
    "collapsed": true
   },
   "outputs": [],
   "source": [
    "# 1、留出法：利用train_test_split切分的就是留出法"
   ]
  },
  {
   "cell_type": "code",
   "execution_count": 23,
   "metadata": {
    "collapsed": false
   },
   "outputs": [
    {
     "name": "stdout",
     "output_type": "stream",
     "text": [
      "[[5 6]\n",
      " [7 8]]\n",
      "[[1 2]\n",
      " [3 4]]\n",
      "[[1 2]\n",
      " [3 4]]\n",
      "[[5 6]\n",
      " [7 8]]\n"
     ]
    }
   ],
   "source": [
    "# 2：1次K折交叉验证\n",
    "kfold = KFold(n_splits = 2)\n",
    "\n",
    "for train_index, test_index in kfold.split(X):\n",
    "    print(X[train_index]) # 自动分割训练集\n",
    "    print(X[test_index])"
   ]
  },
  {
   "cell_type": "code",
   "execution_count": 27,
   "metadata": {
    "collapsed": false
   },
   "outputs": [
    {
     "name": "stdout",
     "output_type": "stream",
     "text": [
      "[[1 2]\n",
      " [3 4]]\n",
      "[[5 6]\n",
      " [7 8]]\n",
      "[[5 6]\n",
      " [7 8]]\n",
      "[[1 2]\n",
      " [3 4]]\n",
      "[[3 4]\n",
      " [7 8]]\n",
      "[[1 2]\n",
      " [5 6]]\n",
      "[[1 2]\n",
      " [5 6]]\n",
      "[[3 4]\n",
      " [7 8]]\n"
     ]
    }
   ],
   "source": [
    "# 3：N次K折交叉验证\n",
    "repeatKfold = RepeatedKFold(n_splits=2, n_repeats=2, random_state=0)\n",
    "\n",
    "for train_index, test_index in repeatKfold.split(X):\n",
    "    print(X[train_index])\n",
    "    print(X[test_index])"
   ]
  },
  {
   "cell_type": "code",
   "execution_count": 29,
   "metadata": {
    "collapsed": false
   },
   "outputs": [
    {
     "name": "stdout",
     "output_type": "stream",
     "text": [
      "[[1 2]]\n",
      "[[3 4]]\n",
      "[[5 6]]\n",
      "[[7 8]]\n"
     ]
    }
   ],
   "source": [
    "# 4：留一法，每次只有一个测试集数据\n",
    "\n",
    "lo = LeaveOneOut()\n",
    "\n",
    "for train_index, test_index in lo.split(X):\n",
    "    print(X[test_index])"
   ]
  },
  {
   "cell_type": "code",
   "execution_count": 30,
   "metadata": {
    "collapsed": false
   },
   "outputs": [
    {
     "name": "stdout",
     "output_type": "stream",
     "text": [
      "[[1 2]\n",
      " [3 4]\n",
      " [5 6]]\n",
      "[[1 2]\n",
      " [3 4]\n",
      " [7 8]]\n",
      "[[1 2]\n",
      " [5 6]\n",
      " [7 8]]\n",
      "[[3 4]\n",
      " [5 6]\n",
      " [7 8]]\n"
     ]
    }
   ],
   "source": [
    "# 5：留p法，每次只有p个测试集数据\n",
    "\n",
    "lp = LeavePOut(p=3)\n",
    "\n",
    "for train_index, test_index in lp.split(X):\n",
    "    print(X[test_index])"
   ]
  },
  {
   "cell_type": "code",
   "execution_count": 35,
   "metadata": {
    "collapsed": false
   },
   "outputs": [
    {
     "name": "stdout",
     "output_type": "stream",
     "text": [
      "[[7 8]\n",
      " [3 4]\n",
      " [1 2]]\n",
      "[[5 6]\n",
      " [3 4]\n",
      " [7 8]]\n"
     ]
    }
   ],
   "source": [
    "# 6：随机分配：随机的把数据打乱，没有指定random_state则每次都是随机的\n",
    "\n",
    "sf = ShuffleSplit(n_splits=2, random_state=0, test_size=0.25)\n",
    "\n",
    "for train_index, test_index in sf.split(X):\n",
    "    print(X[train_index])"
   ]
  },
  {
   "cell_type": "code",
   "execution_count": 51,
   "metadata": {
    "collapsed": false
   },
   "outputs": [
    {
     "data": {
      "text/plain": [
       "array([ 1.        ,  0.96666667,  0.93333333,  0.9       ,  1.        ])"
      ]
     },
     "execution_count": 51,
     "metadata": {},
     "output_type": "execute_result"
    }
   ],
   "source": [
    "# 利用cross_val_score检查模型对数据集进行交叉验证的预测准确性\n",
    "\n",
    "iris = load_iris()\n",
    "\n",
    "lr = LogisticRegression()\n",
    "lr_model = lr.fit(train_x, train_y)\n",
    "\n",
    "cross_val_score(lr_model, iris.data, iris.target, cv=5)\n",
    "# 当cv的取值为整数的时候，使用(Stratified)KFold方法，整数为k，输出k次检验后测试集的得分\n",
    "\n",
    "# my_cv = ShuffleSplit(n_splits=2, random_state=0, test_size=0.25)\n",
    "# cross_val_score(lr_model, test_x, test_y, cv = my_cv)\n",
    "# cv 可自己设置一个交叉验证的生成器或迭代器"
   ]
  },
  {
   "cell_type": "code",
   "execution_count": 58,
   "metadata": {
    "collapsed": false
   },
   "outputs": [
    {
     "data": {
      "text/plain": [
       "{'fit_time': array([ 0.00100017,  0.00100017,  0.00099993,  0.00099993,  0.00099993]),\n",
       " 'score_time': array([ 0.00099993,  0.00099993,  0.00100017,  0.        ,  0.00099993]),\n",
       " 'test_score': array([ 1.        ,  0.96666667,  0.93333333,  0.9       ,  1.        ]),\n",
       " 'train_score': array([ 0.95      ,  0.96666667,  0.96666667,  0.975     ,  0.95833333])}"
      ]
     },
     "execution_count": 58,
     "metadata": {},
     "output_type": "execute_result"
    }
   ],
   "source": [
    "# 利用cross_validate来进行模型的性能度量，\n",
    "# 它会返回一个字典来看模型的性能如何的，字典的key为：dict_keys(['fit_time', 'score_time', 'test_score', 'train_score'])\n",
    "# 表示的是模型的训练时间，测试时间，测试评分和训练评分。\n",
    "\n",
    "scoring = ['precision_macro', 'recall_macro']\n",
    "\n",
    "# scores = cross_validate(lr_model, iris.data, iris.target, scoring=scoring,cv=5, return_train_score=False)\n",
    "# 可配置scoring来指定输出的评估项\n",
    "\n",
    "scores = cross_validate(lr_model, iris.data, iris.target ,cv=5)\n",
    "scores"
   ]
  },
  {
   "cell_type": "code",
   "execution_count": 54,
   "metadata": {
    "collapsed": true
   },
   "outputs": [],
   "source": [
    "# cross_val_predict 和 cross_val_score的使用方法是一样的，但是它返回的是一个使用交叉验证以后的输出值(0或1)，而不是评分标准"
   ]
  }
 ],
 "metadata": {
  "anaconda-cloud": {},
  "kernelspec": {
   "display_name": "Python [conda root]",
   "language": "python",
   "name": "conda-root-py"
  },
  "language_info": {
   "codemirror_mode": {
    "name": "ipython",
    "version": 3
   },
   "file_extension": ".py",
   "mimetype": "text/x-python",
   "name": "python",
   "nbconvert_exporter": "python",
   "pygments_lexer": "ipython3",
   "version": "3.5.2"
  }
 },
 "nbformat": 4,
 "nbformat_minor": 1
}

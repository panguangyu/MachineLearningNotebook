{
 "cells": [
  {
   "cell_type": "code",
   "execution_count": 31,
   "metadata": {
    "collapsed": true
   },
   "outputs": [],
   "source": [
    "# 利用Perceptron判断假钞，假钞由4个维度的特征决定\n",
    "\n",
    "# 钞票数据集（Banknote Dataset）涉及根据给定钞票的数个度量的照片预测是真钞还是假钞。\n",
    "# 它是一个二元分类问题。每个类的观测值数量不均等。一共有 1372 个观察值，4个输入变量和1个输出变量。变量名如下：\n",
    "\n",
    "# 特征说明\n",
    "# 小波变换图像（连续）\n",
    "# 小波偏斜变换图像（连续）\n",
    "# 小波峰度变换图像（连续）\n",
    "# 图像熵（连续）。\n",
    "# 类（0 为真钞，1 为假钞）"
   ]
  },
  {
   "cell_type": "code",
   "execution_count": 44,
   "metadata": {
    "collapsed": true
   },
   "outputs": [],
   "source": [
    "import pandas as pd\n",
    "import numpy as np                                            \n",
    "from sklearn.linear_model import Perceptron                   # 加载感知机\n",
    "from sklearn.externals import joblib                          # 保存模型"
   ]
  },
  {
   "cell_type": "code",
   "execution_count": 5,
   "metadata": {
    "collapsed": false
   },
   "outputs": [],
   "source": [
    "data = pd.read_csv(\"http://archive.ics.uci.edu/ml/machine-learning-databases/00267/data_banknote_authentication.txt\")"
   ]
  },
  {
   "cell_type": "code",
   "execution_count": 9,
   "metadata": {
    "collapsed": false
   },
   "outputs": [
    {
     "name": "stdout",
     "output_type": "stream",
     "text": [
      "[[  4.5459    8.1674   -2.4586   -1.4621    0.     ]\n",
      " [  3.866    -2.6383    1.9242    0.10645   0.     ]\n",
      " [  3.4566    9.5228   -4.0112   -3.5944    0.     ]\n",
      " ..., \n",
      " [ -3.7503  -13.4586   17.5932   -2.7771    1.     ]\n",
      " [ -3.5637   -8.3827   12.393    -1.2823    1.     ]\n",
      " [ -2.5419   -0.65804   2.6842    1.1952    1.     ]]\n"
     ]
    }
   ],
   "source": [
    "data = np.array(data)\n",
    "print(data)"
   ]
  },
  {
   "cell_type": "code",
   "execution_count": 19,
   "metadata": {
    "collapsed": false
   },
   "outputs": [
    {
     "data": {
      "text/plain": [
       "(array([[  4.5459 ,   8.1674 ,  -2.4586 ,  -1.4621 ],\n",
       "        [  3.866  ,  -2.6383 ,   1.9242 ,   0.10645],\n",
       "        [  3.4566 ,   9.5228 ,  -4.0112 ,  -3.5944 ],\n",
       "        ..., \n",
       "        [ -3.7503 , -13.4586 ,  17.5932 ,  -2.7771 ],\n",
       "        [ -3.5637 ,  -8.3827 ,  12.393  ,  -1.2823 ],\n",
       "        [ -2.5419 ,  -0.65804,   2.6842 ,   1.1952 ]]),\n",
       " array([ 0.,  0.,  0., ...,  1.,  1.,  1.]))"
      ]
     },
     "execution_count": 19,
     "metadata": {},
     "output_type": "execute_result"
    }
   ],
   "source": [
    "x = data[:,0:4]\n",
    "y = data[:,4]\n",
    "x,y"
   ]
  },
  {
   "cell_type": "code",
   "execution_count": 26,
   "metadata": {
    "collapsed": false
   },
   "outputs": [],
   "source": [
    "train_x = x[:1050,:]\n",
    "test_x = x[1050:,:]\n",
    "train_y = y[:1050]\n",
    "test_y = y[1050:]"
   ]
  },
  {
   "cell_type": "code",
   "execution_count": 35,
   "metadata": {
    "collapsed": false,
    "scrolled": true
   },
   "outputs": [
    {
     "data": {
      "text/plain": [
       "Perceptron(alpha=0.0001, class_weight=None, eta0=1.0, fit_intercept=True,\n",
       "      n_iter=300000, n_jobs=1, penalty=None, random_state=0, shuffle=True,\n",
       "      verbose=0, warm_start=False)"
      ]
     },
     "execution_count": 35,
     "metadata": {},
     "output_type": "execute_result"
    }
   ],
   "source": [
    "perceptron = Perceptron(n_iter = 300000)\n",
    "perceptron.fit(train_x, train_y)"
   ]
  },
  {
   "cell_type": "code",
   "execution_count": 36,
   "metadata": {
    "collapsed": false
   },
   "outputs": [
    {
     "name": "stdout",
     "output_type": "stream",
     "text": [
      "[[-209.89228999 -105.27741999 -136.45368299  -13.7800048 ]]\n"
     ]
    }
   ],
   "source": [
    "print(perceptron.coef_) # 打印的就是w1,w2,w3,..."
   ]
  },
  {
   "cell_type": "code",
   "execution_count": 38,
   "metadata": {
    "collapsed": false
   },
   "outputs": [
    {
     "data": {
      "text/plain": [
       "0.99065420560747663"
      ]
     },
     "execution_count": 38,
     "metadata": {},
     "output_type": "execute_result"
    }
   ],
   "source": [
    "perceptron.score(test_x, test_y)  # 预测的准确率在99.065%"
   ]
  },
  {
   "cell_type": "code",
   "execution_count": 40,
   "metadata": {
    "collapsed": false
   },
   "outputs": [
    {
     "data": {
      "text/plain": [
       "['perceptron.pkl',\n",
       " 'perceptron.pkl_01.npy',\n",
       " 'perceptron.pkl_02.npy',\n",
       " 'perceptron.pkl_03.npy',\n",
       " 'perceptron.pkl_04.npy']"
      ]
     },
     "execution_count": 40,
     "metadata": {},
     "output_type": "execute_result"
    }
   ],
   "source": [
    "# 保存模型\n",
    "joblib.dump(perceptron, 'perceptron.pkl')"
   ]
  },
  {
   "cell_type": "code",
   "execution_count": 43,
   "metadata": {
    "collapsed": false
   },
   "outputs": [
    {
     "data": {
      "text/plain": [
       "0.99065420560747663"
      ]
     },
     "execution_count": 43,
     "metadata": {},
     "output_type": "execute_result"
    }
   ],
   "source": [
    "# 加载模型进行预测\n",
    "load_perceptron = joblib.load('perceptron.pkl')\n",
    "\n",
    "# 准确率与原来的一致，说明模型已被保存\n",
    "load_perceptron.score(test_x, test_y) "
   ]
  }
 ],
 "metadata": {
  "anaconda-cloud": {},
  "kernelspec": {
   "display_name": "Python [conda root]",
   "language": "python",
   "name": "conda-root-py"
  },
  "language_info": {
   "codemirror_mode": {
    "name": "ipython",
    "version": 3
   },
   "file_extension": ".py",
   "mimetype": "text/x-python",
   "name": "python",
   "nbconvert_exporter": "python",
   "pygments_lexer": "ipython3",
   "version": "3.5.2"
  }
 },
 "nbformat": 4,
 "nbformat_minor": 1
}
